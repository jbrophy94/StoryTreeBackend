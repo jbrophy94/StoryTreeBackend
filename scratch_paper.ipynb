{
 "cells": [
  {
   "cell_type": "code",
   "execution_count": 11,
   "metadata": {},
   "outputs": [],
   "source": [
    "class event:\n",
    "    #constructor\n",
    "    def __init__(self, event_name, story_context = \"\", branches = []):\n",
    "        self.event_name = event_name,\n",
    "        self.story_context = story_context,\n",
    "        self.branches = branches\n",
    "\n",
    "    def set_story_context(self, text):\n",
    "        self.story_context = text\n",
    "    \n",
    "    def set_name(self, name):\n",
    "        self.event_name = name\n",
    "    \n",
    "    def set_branch(self, branch):\n",
    "        self.branches.append(branch)\n",
    "\n",
    "    #display\n",
    "    def display_event(self):\n",
    "        print(self.story_context)\n",
    "    \n",
    "    \n",
    "    "
   ]
  },
  {
   "cell_type": "code",
   "execution_count": 12,
   "metadata": {},
   "outputs": [],
   "source": [
    "class branch:\n",
    "    #constructor\n",
    "    def __init__(self, branch_name, linked_event, choice_text):\n",
    "        self.branch_name = branch_name\n",
    "        self.linked_event = linked_event\n",
    "        self.choice_text = choice_text\n",
    "\n",
    "    #getters\n",
    "    def get_name(self):\n",
    "        return self.branch_name\n",
    "    \n",
    "    def get_linked_event(self):\n",
    "        return self.linked_event()\n",
    "\n",
    "    def get_choice_text(self):\n",
    "        return self.choice_text\n",
    "    \n",
    "    #setters\n",
    "    def set_name(self, name):\n",
    "        self.branch_name = name\n",
    "    \n",
    "    def set_linked_event(self, linked_event):\n",
    "        self.linked_event = linked_event\n",
    "\n",
    "    def set_choice_text(self, text):\n",
    "        self.choice_text = text\n",
    "\n",
    "    #display\n",
    "    def print_name(self):\n",
    "        print(self.branch_name)\n",
    "    \n",
    "    def print_linked_event_text(self):\n",
    "        print(self.linked_event.story_context)\n",
    "\n",
    "    def print_choice_text(self):\n",
    "        print(self.choice_text)"
   ]
  },
  {
   "cell_type": "code",
   "execution_count": 13,
   "metadata": {},
   "outputs": [],
   "source": [
    "event_1 = event(\"test_event\", \"You are walking down the street and a goose attacks\")"
   ]
  },
  {
   "cell_type": "code",
   "execution_count": 14,
   "metadata": {},
   "outputs": [
    {
     "name": "stdout",
     "output_type": "stream",
     "text": [
      "('You are walking down the street and a goose attacks',)\n"
     ]
    }
   ],
   "source": [
    "event_1.display_event()"
   ]
  },
  {
   "cell_type": "code",
   "execution_count": 15,
   "metadata": {},
   "outputs": [],
   "source": [
    "event_2 = event('test_event2', 'the goose jumps in the air and pecks your head')"
   ]
  },
  {
   "cell_type": "code",
   "execution_count": 16,
   "metadata": {},
   "outputs": [],
   "source": [
    "branch1 = branch(\"swing\", event_2,\"take a swing at the goose\")"
   ]
  },
  {
   "cell_type": "code",
   "execution_count": 17,
   "metadata": {},
   "outputs": [],
   "source": [
    "event_1.set_branch(branch1)"
   ]
  },
  {
   "cell_type": "code",
   "execution_count": 18,
   "metadata": {},
   "outputs": [
    {
     "name": "stdout",
     "output_type": "stream",
     "text": [
      "('the goose jumps in the air and pecks your head',)\n"
     ]
    }
   ],
   "source": [
    "event_1.branches[0].linked_event.display_event()"
   ]
  },
  {
   "cell_type": "code",
   "execution_count": null,
   "metadata": {},
   "outputs": [],
   "source": []
  },
  {
   "cell_type": "code",
   "execution_count": null,
   "metadata": {},
   "outputs": [],
   "source": []
  }
 ],
 "metadata": {
  "kernelspec": {
   "display_name": "venv",
   "language": "python",
   "name": "python3"
  },
  "language_info": {
   "codemirror_mode": {
    "name": "ipython",
    "version": 3
   },
   "file_extension": ".py",
   "mimetype": "text/x-python",
   "name": "python",
   "nbconvert_exporter": "python",
   "pygments_lexer": "ipython3",
   "version": "3.12.4"
  }
 },
 "nbformat": 4,
 "nbformat_minor": 2
}
